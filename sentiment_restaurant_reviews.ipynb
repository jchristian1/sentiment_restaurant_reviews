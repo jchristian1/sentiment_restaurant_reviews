{
  "nbformat": 4,
  "nbformat_minor": 0,
  "metadata": {
    "colab": {
      "name": "Untitled0.ipynb",
      "provenance": [],
      "collapsed_sections": []
    },
    "kernelspec": {
      "name": "python3",
      "display_name": "Python 3"
    },
    "language_info": {
      "name": "python"
    }
  },
  "cells": [
    {
      "cell_type": "markdown",
      "source": [
        "Restaurant Review Classification NLTK"
      ],
      "metadata": {
        "id": "2mfpQ6uxSC-b"
      }
    },
    {
      "cell_type": "markdown",
      "source": [
        "Business Problem"
      ],
      "metadata": {
        "id": "s-fsgBdybjL8"
      }
    },
    {
      "cell_type": "code",
      "source": [
        "import matplotlib.pyplot as plt\n",
        "import pandas as pd"
      ],
      "metadata": {
        "id": "suU1airabgZ_"
      },
      "execution_count": 91,
      "outputs": []
    },
    {
      "cell_type": "code",
      "source": [
        "#importing dataset\n",
        "data = pd.read_csv('Restaurant_Reviews.tsv',sep='\\t',quoting=3)"
      ],
      "metadata": {
        "id": "65PwPCz0cgWJ"
      },
      "execution_count": 92,
      "outputs": []
    },
    {
      "cell_type": "code",
      "source": [
        "#see first rows of dataset\n",
        "data['Liked'].value_counts()"
      ],
      "metadata": {
        "colab": {
          "base_uri": "https://localhost:8080/"
        },
        "id": "gsj5hrhzdCdg",
        "outputId": "7a165a3c-d36e-4337-c302-98541969b343"
      },
      "execution_count": 93,
      "outputs": [
        {
          "output_type": "execute_result",
          "data": {
            "text/plain": [
              "1    500\n",
              "0    500\n",
              "Name: Liked, dtype: int64"
            ]
          },
          "metadata": {},
          "execution_count": 93
        }
      ]
    },
    {
      "cell_type": "markdown",
      "source": [
        "Cleaning Text Data"
      ],
      "metadata": {
        "id": "PdPq0RLsbk7T"
      }
    },
    {
      "cell_type": "code",
      "source": [
        "import nltk\n",
        "import re"
      ],
      "metadata": {
        "id": "4i_p8ZsLbp4h"
      },
      "execution_count": 94,
      "outputs": []
    },
    {
      "cell_type": "code",
      "source": [
        "nltk.download('stopwords')"
      ],
      "metadata": {
        "colab": {
          "base_uri": "https://localhost:8080/"
        },
        "id": "etmuEMuZbq8H",
        "outputId": "4c7bfff6-5a0f-47c7-8569-d2e3123148ff"
      },
      "execution_count": 95,
      "outputs": [
        {
          "output_type": "stream",
          "name": "stdout",
          "text": [
            "[nltk_data] Downloading package stopwords to /root/nltk_data...\n",
            "[nltk_data]   Package stopwords is already up-to-date!\n"
          ]
        },
        {
          "output_type": "execute_result",
          "data": {
            "text/plain": [
              "True"
            ]
          },
          "metadata": {},
          "execution_count": 95
        }
      ]
    },
    {
      "cell_type": "code",
      "source": [
        "from nltk.corpus import stopwords"
      ],
      "metadata": {
        "id": "N5byLE6zeYi1"
      },
      "execution_count": 96,
      "outputs": []
    },
    {
      "cell_type": "code",
      "source": [
        "#pick a sample from the dataset to work\n",
        "data['Review'][0]"
      ],
      "metadata": {
        "colab": {
          "base_uri": "https://localhost:8080/",
          "height": 34
        },
        "id": "_UL3pWMFeYlU",
        "outputId": "65f43520-1f4c-4142-f087-1abd8028870b"
      },
      "execution_count": 97,
      "outputs": [
        {
          "output_type": "execute_result",
          "data": {
            "application/vnd.google.colaboratory.intrinsic+json": {
              "type": "string"
            },
            "text/plain": [
              "'Wow... Loved this place.'"
            ]
          },
          "metadata": {},
          "execution_count": 97
        }
      ]
    },
    {
      "cell_type": "code",
      "source": [
        "#regular expresion to pick everything that has words and make an space between the strings\n",
        "review = re.sub('[^a-zA-Z]',' ',data['Review'][0])\n",
        "review"
      ],
      "metadata": {
        "colab": {
          "base_uri": "https://localhost:8080/",
          "height": 34
        },
        "id": "FyEW0uC0eYn7",
        "outputId": "97d690cf-34b2-4629-b061-a611f41a6ce1"
      },
      "execution_count": 98,
      "outputs": [
        {
          "output_type": "execute_result",
          "data": {
            "application/vnd.google.colaboratory.intrinsic+json": {
              "type": "string"
            },
            "text/plain": [
              "'Wow    Loved this place '"
            ]
          },
          "metadata": {},
          "execution_count": 98
        }
      ]
    },
    {
      "cell_type": "code",
      "source": [
        "#parse all words to lower case\n",
        "review = review.lower()\n",
        "review"
      ],
      "metadata": {
        "colab": {
          "base_uri": "https://localhost:8080/",
          "height": 34
        },
        "id": "i8OUqnuWeYsj",
        "outputId": "fc681e05-7eac-4496-8f5f-7fb02094bbec"
      },
      "execution_count": 99,
      "outputs": [
        {
          "output_type": "execute_result",
          "data": {
            "application/vnd.google.colaboratory.intrinsic+json": {
              "type": "string"
            },
            "text/plain": [
              "'wow    loved this place '"
            ]
          },
          "metadata": {},
          "execution_count": 99
        }
      ]
    },
    {
      "cell_type": "code",
      "source": [
        "#make the tokenization, create an array with each word of the sentence\n",
        "review = review.split()\n",
        "review"
      ],
      "metadata": {
        "colab": {
          "base_uri": "https://localhost:8080/"
        },
        "id": "EUr0517Cf8zL",
        "outputId": "272e88e6-4b55-408a-8b78-606362bcb077"
      },
      "execution_count": 100,
      "outputs": [
        {
          "output_type": "execute_result",
          "data": {
            "text/plain": [
              "['wow', 'loved', 'this', 'place']"
            ]
          },
          "metadata": {},
          "execution_count": 100
        }
      ]
    },
    {
      "cell_type": "code",
      "source": [
        "#take a look of all stopwords at nltk library\n",
        "stopwords.words('english')"
      ],
      "metadata": {
        "colab": {
          "base_uri": "https://localhost:8080/"
        },
        "id": "dtnAdr-kf84V",
        "outputId": "91006f1c-66e8-4886-f0c4-5f130f092a05"
      },
      "execution_count": 101,
      "outputs": [
        {
          "output_type": "execute_result",
          "data": {
            "text/plain": [
              "['i',\n",
              " 'me',\n",
              " 'my',\n",
              " 'myself',\n",
              " 'we',\n",
              " 'our',\n",
              " 'ours',\n",
              " 'ourselves',\n",
              " 'you',\n",
              " \"you're\",\n",
              " \"you've\",\n",
              " \"you'll\",\n",
              " \"you'd\",\n",
              " 'your',\n",
              " 'yours',\n",
              " 'yourself',\n",
              " 'yourselves',\n",
              " 'he',\n",
              " 'him',\n",
              " 'his',\n",
              " 'himself',\n",
              " 'she',\n",
              " \"she's\",\n",
              " 'her',\n",
              " 'hers',\n",
              " 'herself',\n",
              " 'it',\n",
              " \"it's\",\n",
              " 'its',\n",
              " 'itself',\n",
              " 'they',\n",
              " 'them',\n",
              " 'their',\n",
              " 'theirs',\n",
              " 'themselves',\n",
              " 'what',\n",
              " 'which',\n",
              " 'who',\n",
              " 'whom',\n",
              " 'this',\n",
              " 'that',\n",
              " \"that'll\",\n",
              " 'these',\n",
              " 'those',\n",
              " 'am',\n",
              " 'is',\n",
              " 'are',\n",
              " 'was',\n",
              " 'were',\n",
              " 'be',\n",
              " 'been',\n",
              " 'being',\n",
              " 'have',\n",
              " 'has',\n",
              " 'had',\n",
              " 'having',\n",
              " 'do',\n",
              " 'does',\n",
              " 'did',\n",
              " 'doing',\n",
              " 'a',\n",
              " 'an',\n",
              " 'the',\n",
              " 'and',\n",
              " 'but',\n",
              " 'if',\n",
              " 'or',\n",
              " 'because',\n",
              " 'as',\n",
              " 'until',\n",
              " 'while',\n",
              " 'of',\n",
              " 'at',\n",
              " 'by',\n",
              " 'for',\n",
              " 'with',\n",
              " 'about',\n",
              " 'against',\n",
              " 'between',\n",
              " 'into',\n",
              " 'through',\n",
              " 'during',\n",
              " 'before',\n",
              " 'after',\n",
              " 'above',\n",
              " 'below',\n",
              " 'to',\n",
              " 'from',\n",
              " 'up',\n",
              " 'down',\n",
              " 'in',\n",
              " 'out',\n",
              " 'on',\n",
              " 'off',\n",
              " 'over',\n",
              " 'under',\n",
              " 'again',\n",
              " 'further',\n",
              " 'then',\n",
              " 'once',\n",
              " 'here',\n",
              " 'there',\n",
              " 'when',\n",
              " 'where',\n",
              " 'why',\n",
              " 'how',\n",
              " 'all',\n",
              " 'any',\n",
              " 'both',\n",
              " 'each',\n",
              " 'few',\n",
              " 'more',\n",
              " 'most',\n",
              " 'other',\n",
              " 'some',\n",
              " 'such',\n",
              " 'no',\n",
              " 'nor',\n",
              " 'not',\n",
              " 'only',\n",
              " 'own',\n",
              " 'same',\n",
              " 'so',\n",
              " 'than',\n",
              " 'too',\n",
              " 'very',\n",
              " 's',\n",
              " 't',\n",
              " 'can',\n",
              " 'will',\n",
              " 'just',\n",
              " 'don',\n",
              " \"don't\",\n",
              " 'should',\n",
              " \"should've\",\n",
              " 'now',\n",
              " 'd',\n",
              " 'll',\n",
              " 'm',\n",
              " 'o',\n",
              " 're',\n",
              " 've',\n",
              " 'y',\n",
              " 'ain',\n",
              " 'aren',\n",
              " \"aren't\",\n",
              " 'couldn',\n",
              " \"couldn't\",\n",
              " 'didn',\n",
              " \"didn't\",\n",
              " 'doesn',\n",
              " \"doesn't\",\n",
              " 'hadn',\n",
              " \"hadn't\",\n",
              " 'hasn',\n",
              " \"hasn't\",\n",
              " 'haven',\n",
              " \"haven't\",\n",
              " 'isn',\n",
              " \"isn't\",\n",
              " 'ma',\n",
              " 'mightn',\n",
              " \"mightn't\",\n",
              " 'mustn',\n",
              " \"mustn't\",\n",
              " 'needn',\n",
              " \"needn't\",\n",
              " 'shan',\n",
              " \"shan't\",\n",
              " 'shouldn',\n",
              " \"shouldn't\",\n",
              " 'wasn',\n",
              " \"wasn't\",\n",
              " 'weren',\n",
              " \"weren't\",\n",
              " 'won',\n",
              " \"won't\",\n",
              " 'wouldn',\n",
              " \"wouldn't\"]"
            ]
          },
          "metadata": {},
          "execution_count": 101
        }
      ]
    },
    {
      "cell_type": "code",
      "source": [
        " #create a new a array of words taking out all the stop words from the original sentence (array)\n",
        "preview = []\n",
        "for word in review:\n",
        "  if word not in stopwords.words('english'):\n",
        "    preview.append(word)\n",
        "preview"
      ],
      "metadata": {
        "colab": {
          "base_uri": "https://localhost:8080/"
        },
        "id": "p9XHG1-Yf86a",
        "outputId": "df23ce8f-f581-4cb8-befd-7e709e172ef4"
      },
      "execution_count": 102,
      "outputs": [
        {
          "output_type": "execute_result",
          "data": {
            "text/plain": [
              "['wow', 'loved', 'place']"
            ]
          },
          "metadata": {},
          "execution_count": 102
        }
      ]
    },
    {
      "cell_type": "code",
      "source": [
        "#making above function to lambda function\n",
        "review = [word for word in review if word not in stopwords.words('english')]\n",
        "review"
      ],
      "metadata": {
        "colab": {
          "base_uri": "https://localhost:8080/"
        },
        "id": "Hfv6EeLhf9Ti",
        "outputId": "803d4e01-d1e4-40ff-b6c7-956aabb99eca"
      },
      "execution_count": 103,
      "outputs": [
        {
          "output_type": "execute_result",
          "data": {
            "text/plain": [
              "['wow', 'loved', 'place']"
            ]
          },
          "metadata": {},
          "execution_count": 103
        }
      ]
    },
    {
      "cell_type": "code",
      "source": [
        "from nltk.stem.porter import PorterStemmer\n",
        "ps = PorterStemmer()"
      ],
      "metadata": {
        "id": "V4u_3GVahBb1"
      },
      "execution_count": 104,
      "outputs": []
    },
    {
      "cell_type": "code",
      "source": [
        "#stemming each word (putting it on its mother route example loved become love)\n",
        "review = [ps.stem(word) for word in review]\n",
        "review"
      ],
      "metadata": {
        "colab": {
          "base_uri": "https://localhost:8080/"
        },
        "id": "s0RsrtCohBob",
        "outputId": "b32621a9-dfd4-4008-c8bd-dfe79c26d10f"
      },
      "execution_count": 105,
      "outputs": [
        {
          "output_type": "execute_result",
          "data": {
            "text/plain": [
              "['wow', 'love', 'place']"
            ]
          },
          "metadata": {},
          "execution_count": 105
        }
      ]
    },
    {
      "cell_type": "code",
      "source": [
        "#generate a complete string using the array reviews\n",
        "review = \" \".join(review)\n",
        "print(review)"
      ],
      "metadata": {
        "colab": {
          "base_uri": "https://localhost:8080/"
        },
        "id": "DSWS0NE1kU0o",
        "outputId": "cf609831-b3bc-4cf2-e2e4-ade49d00a3fd"
      },
      "execution_count": 106,
      "outputs": [
        {
          "output_type": "stream",
          "name": "stdout",
          "text": [
            "wow love place\n"
          ]
        }
      ]
    },
    {
      "cell_type": "code",
      "source": [
        "#apply all above steps to the complete dataset\n",
        "corpus = []\n",
        "\n",
        "ps = PorterStemmer()\n",
        "\n",
        "for i in range(len(data)):\n",
        "  review = re.sub('[^a-zA-Z]',' ',data['Review'][0])\n",
        "  review = review.lower()\n",
        "  review = review.split()\n",
        "  review = [ps.stem(word) for word in review if word not in stopwords.words('english')]\n",
        "  review = \" \".join(review)\n",
        "\n",
        "  corpus.append(review)  "
      ],
      "metadata": {
        "id": "MKkZ7vMDkU7z"
      },
      "execution_count": 107,
      "outputs": []
    },
    {
      "cell_type": "code",
      "source": [
        "print(corpus)"
      ],
      "metadata": {
        "colab": {
          "base_uri": "https://localhost:8080/"
        },
        "id": "OlQde50DkVEz",
        "outputId": "356d4efc-4d8c-4896-bc55-3edc979509ef"
      },
      "execution_count": 108,
      "outputs": [
        {
          "output_type": "stream",
          "name": "stdout",
          "text": [
            "['wow love place', 'wow love place', 'wow love place', 'wow love place', 'wow love place', 'wow love place', 'wow love place', 'wow love place', 'wow love place', 'wow love place', 'wow love place', 'wow love place', 'wow love place', 'wow love place', 'wow love place', 'wow love place', 'wow love place', 'wow love place', 'wow love place', 'wow love place', 'wow love place', 'wow love place', 'wow love place', 'wow love place', 'wow love place', 'wow love place', 'wow love place', 'wow love place', 'wow love place', 'wow love place', 'wow love place', 'wow love place', 'wow love place', 'wow love place', 'wow love place', 'wow love place', 'wow love place', 'wow love place', 'wow love place', 'wow love place', 'wow love place', 'wow love place', 'wow love place', 'wow love place', 'wow love place', 'wow love place', 'wow love place', 'wow love place', 'wow love place', 'wow love place', 'wow love place', 'wow love place', 'wow love place', 'wow love place', 'wow love place', 'wow love place', 'wow love place', 'wow love place', 'wow love place', 'wow love place', 'wow love place', 'wow love place', 'wow love place', 'wow love place', 'wow love place', 'wow love place', 'wow love place', 'wow love place', 'wow love place', 'wow love place', 'wow love place', 'wow love place', 'wow love place', 'wow love place', 'wow love place', 'wow love place', 'wow love place', 'wow love place', 'wow love place', 'wow love place', 'wow love place', 'wow love place', 'wow love place', 'wow love place', 'wow love place', 'wow love place', 'wow love place', 'wow love place', 'wow love place', 'wow love place', 'wow love place', 'wow love place', 'wow love place', 'wow love place', 'wow love place', 'wow love place', 'wow love place', 'wow love place', 'wow love place', 'wow love place', 'wow love place', 'wow love place', 'wow love place', 'wow love place', 'wow love place', 'wow love place', 'wow love place', 'wow love place', 'wow love place', 'wow love place', 'wow love place', 'wow love place', 'wow love place', 'wow love place', 'wow love place', 'wow love place', 'wow love place', 'wow love place', 'wow love place', 'wow love place', 'wow love place', 'wow love place', 'wow love place', 'wow love place', 'wow love place', 'wow love place', 'wow love place', 'wow love place', 'wow love place', 'wow love place', 'wow love place', 'wow love place', 'wow love place', 'wow love place', 'wow love place', 'wow love place', 'wow love place', 'wow love place', 'wow love place', 'wow love place', 'wow love place', 'wow love place', 'wow love place', 'wow love place', 'wow love place', 'wow love place', 'wow love place', 'wow love place', 'wow love place', 'wow love place', 'wow love place', 'wow love place', 'wow love place', 'wow love place', 'wow love place', 'wow love place', 'wow love place', 'wow love place', 'wow love place', 'wow love place', 'wow love place', 'wow love place', 'wow love place', 'wow love place', 'wow love place', 'wow love place', 'wow love place', 'wow love place', 'wow love place', 'wow love place', 'wow love place', 'wow love place', 'wow love place', 'wow love place', 'wow love place', 'wow love place', 'wow love place', 'wow love place', 'wow love place', 'wow love place', 'wow love place', 'wow love place', 'wow love place', 'wow love place', 'wow love place', 'wow love place', 'wow love place', 'wow love place', 'wow love place', 'wow love place', 'wow love place', 'wow love place', 'wow love place', 'wow love place', 'wow love place', 'wow love place', 'wow love place', 'wow love place', 'wow love place', 'wow love place', 'wow love place', 'wow love place', 'wow love place', 'wow love place', 'wow love place', 'wow love place', 'wow love place', 'wow love place', 'wow love place', 'wow love place', 'wow love place', 'wow love place', 'wow love place', 'wow love place', 'wow love place', 'wow love place', 'wow love place', 'wow love place', 'wow love place', 'wow love place', 'wow love place', 'wow love place', 'wow love place', 'wow love place', 'wow love place', 'wow love place', 'wow love place', 'wow love place', 'wow love place', 'wow love place', 'wow love place', 'wow love place', 'wow love place', 'wow love place', 'wow love place', 'wow love place', 'wow love place', 'wow love place', 'wow love place', 'wow love place', 'wow love place', 'wow love place', 'wow love place', 'wow love place', 'wow love place', 'wow love place', 'wow love place', 'wow love place', 'wow love place', 'wow love place', 'wow love place', 'wow love place', 'wow love place', 'wow love place', 'wow love place', 'wow love place', 'wow love place', 'wow love place', 'wow love place', 'wow love place', 'wow love place', 'wow love place', 'wow love place', 'wow love place', 'wow love place', 'wow love place', 'wow love place', 'wow love place', 'wow love place', 'wow love place', 'wow love place', 'wow love place', 'wow love place', 'wow love place', 'wow love place', 'wow love place', 'wow love place', 'wow love place', 'wow love place', 'wow love place', 'wow love place', 'wow love place', 'wow love place', 'wow love place', 'wow love place', 'wow love place', 'wow love place', 'wow love place', 'wow love place', 'wow love place', 'wow love place', 'wow love place', 'wow love place', 'wow love place', 'wow love place', 'wow love place', 'wow love place', 'wow love place', 'wow love place', 'wow love place', 'wow love place', 'wow love place', 'wow love place', 'wow love place', 'wow love place', 'wow love place', 'wow love place', 'wow love place', 'wow love place', 'wow love place', 'wow love place', 'wow love place', 'wow love place', 'wow love place', 'wow love place', 'wow love place', 'wow love place', 'wow love place', 'wow love place', 'wow love place', 'wow love place', 'wow love place', 'wow love place', 'wow love place', 'wow love place', 'wow love place', 'wow love place', 'wow love place', 'wow love place', 'wow love place', 'wow love place', 'wow love place', 'wow love place', 'wow love place', 'wow love place', 'wow love place', 'wow love place', 'wow love place', 'wow love place', 'wow love place', 'wow love place', 'wow love place', 'wow love place', 'wow love place', 'wow love place', 'wow love place', 'wow love place', 'wow love place', 'wow love place', 'wow love place', 'wow love place', 'wow love place', 'wow love place', 'wow love place', 'wow love place', 'wow love place', 'wow love place', 'wow love place', 'wow love place', 'wow love place', 'wow love place', 'wow love place', 'wow love place', 'wow love place', 'wow love place', 'wow love place', 'wow love place', 'wow love place', 'wow love place', 'wow love place', 'wow love place', 'wow love place', 'wow love place', 'wow love place', 'wow love place', 'wow love place', 'wow love place', 'wow love place', 'wow love place', 'wow love place', 'wow love place', 'wow love place', 'wow love place', 'wow love place', 'wow love place', 'wow love place', 'wow love place', 'wow love place', 'wow love place', 'wow love place', 'wow love place', 'wow love place', 'wow love place', 'wow love place', 'wow love place', 'wow love place', 'wow love place', 'wow love place', 'wow love place', 'wow love place', 'wow love place', 'wow love place', 'wow love place', 'wow love place', 'wow love place', 'wow love place', 'wow love place', 'wow love place', 'wow love place', 'wow love place', 'wow love place', 'wow love place', 'wow love place', 'wow love place', 'wow love place', 'wow love place', 'wow love place', 'wow love place', 'wow love place', 'wow love place', 'wow love place', 'wow love place', 'wow love place', 'wow love place', 'wow love place', 'wow love place', 'wow love place', 'wow love place', 'wow love place', 'wow love place', 'wow love place', 'wow love place', 'wow love place', 'wow love place', 'wow love place', 'wow love place', 'wow love place', 'wow love place', 'wow love place', 'wow love place', 'wow love place', 'wow love place', 'wow love place', 'wow love place', 'wow love place', 'wow love place', 'wow love place', 'wow love place', 'wow love place', 'wow love place', 'wow love place', 'wow love place', 'wow love place', 'wow love place', 'wow love place', 'wow love place', 'wow love place', 'wow love place', 'wow love place', 'wow love place', 'wow love place', 'wow love place', 'wow love place', 'wow love place', 'wow love place', 'wow love place', 'wow love place', 'wow love place', 'wow love place', 'wow love place', 'wow love place', 'wow love place', 'wow love place', 'wow love place', 'wow love place', 'wow love place', 'wow love place', 'wow love place', 'wow love place', 'wow love place', 'wow love place', 'wow love place', 'wow love place', 'wow love place', 'wow love place', 'wow love place', 'wow love place', 'wow love place', 'wow love place', 'wow love place', 'wow love place', 'wow love place', 'wow love place', 'wow love place', 'wow love place', 'wow love place', 'wow love place', 'wow love place', 'wow love place', 'wow love place', 'wow love place', 'wow love place', 'wow love place', 'wow love place', 'wow love place', 'wow love place', 'wow love place', 'wow love place', 'wow love place', 'wow love place', 'wow love place', 'wow love place', 'wow love place', 'wow love place', 'wow love place', 'wow love place', 'wow love place', 'wow love place', 'wow love place', 'wow love place', 'wow love place', 'wow love place', 'wow love place', 'wow love place', 'wow love place', 'wow love place', 'wow love place', 'wow love place', 'wow love place', 'wow love place', 'wow love place', 'wow love place', 'wow love place', 'wow love place', 'wow love place', 'wow love place', 'wow love place', 'wow love place', 'wow love place', 'wow love place', 'wow love place', 'wow love place', 'wow love place', 'wow love place', 'wow love place', 'wow love place', 'wow love place', 'wow love place', 'wow love place', 'wow love place', 'wow love place', 'wow love place', 'wow love place', 'wow love place', 'wow love place', 'wow love place', 'wow love place', 'wow love place', 'wow love place', 'wow love place', 'wow love place', 'wow love place', 'wow love place', 'wow love place', 'wow love place', 'wow love place', 'wow love place', 'wow love place', 'wow love place', 'wow love place', 'wow love place', 'wow love place', 'wow love place', 'wow love place', 'wow love place', 'wow love place', 'wow love place', 'wow love place', 'wow love place', 'wow love place', 'wow love place', 'wow love place', 'wow love place', 'wow love place', 'wow love place', 'wow love place', 'wow love place', 'wow love place', 'wow love place', 'wow love place', 'wow love place', 'wow love place', 'wow love place', 'wow love place', 'wow love place', 'wow love place', 'wow love place', 'wow love place', 'wow love place', 'wow love place', 'wow love place', 'wow love place', 'wow love place', 'wow love place', 'wow love place', 'wow love place', 'wow love place', 'wow love place', 'wow love place', 'wow love place', 'wow love place', 'wow love place', 'wow love place', 'wow love place', 'wow love place', 'wow love place', 'wow love place', 'wow love place', 'wow love place', 'wow love place', 'wow love place', 'wow love place', 'wow love place', 'wow love place', 'wow love place', 'wow love place', 'wow love place', 'wow love place', 'wow love place', 'wow love place', 'wow love place', 'wow love place', 'wow love place', 'wow love place', 'wow love place', 'wow love place', 'wow love place', 'wow love place', 'wow love place', 'wow love place', 'wow love place', 'wow love place', 'wow love place', 'wow love place', 'wow love place', 'wow love place', 'wow love place', 'wow love place', 'wow love place', 'wow love place', 'wow love place', 'wow love place', 'wow love place', 'wow love place', 'wow love place', 'wow love place', 'wow love place', 'wow love place', 'wow love place', 'wow love place', 'wow love place', 'wow love place', 'wow love place', 'wow love place', 'wow love place', 'wow love place', 'wow love place', 'wow love place', 'wow love place', 'wow love place', 'wow love place', 'wow love place', 'wow love place', 'wow love place', 'wow love place', 'wow love place', 'wow love place', 'wow love place', 'wow love place', 'wow love place', 'wow love place', 'wow love place', 'wow love place', 'wow love place', 'wow love place', 'wow love place', 'wow love place', 'wow love place', 'wow love place', 'wow love place', 'wow love place', 'wow love place', 'wow love place', 'wow love place', 'wow love place', 'wow love place', 'wow love place', 'wow love place', 'wow love place', 'wow love place', 'wow love place', 'wow love place', 'wow love place', 'wow love place', 'wow love place', 'wow love place', 'wow love place', 'wow love place', 'wow love place', 'wow love place', 'wow love place', 'wow love place', 'wow love place', 'wow love place', 'wow love place', 'wow love place', 'wow love place', 'wow love place', 'wow love place', 'wow love place', 'wow love place', 'wow love place', 'wow love place', 'wow love place', 'wow love place', 'wow love place', 'wow love place', 'wow love place', 'wow love place', 'wow love place', 'wow love place', 'wow love place', 'wow love place', 'wow love place', 'wow love place', 'wow love place', 'wow love place', 'wow love place', 'wow love place', 'wow love place', 'wow love place', 'wow love place', 'wow love place', 'wow love place', 'wow love place', 'wow love place', 'wow love place', 'wow love place', 'wow love place', 'wow love place', 'wow love place', 'wow love place', 'wow love place', 'wow love place', 'wow love place', 'wow love place', 'wow love place', 'wow love place', 'wow love place', 'wow love place', 'wow love place', 'wow love place', 'wow love place', 'wow love place', 'wow love place', 'wow love place', 'wow love place', 'wow love place', 'wow love place', 'wow love place', 'wow love place', 'wow love place', 'wow love place', 'wow love place', 'wow love place', 'wow love place', 'wow love place', 'wow love place', 'wow love place', 'wow love place', 'wow love place', 'wow love place', 'wow love place', 'wow love place', 'wow love place', 'wow love place', 'wow love place', 'wow love place', 'wow love place', 'wow love place', 'wow love place', 'wow love place', 'wow love place', 'wow love place', 'wow love place', 'wow love place', 'wow love place', 'wow love place', 'wow love place', 'wow love place', 'wow love place', 'wow love place', 'wow love place', 'wow love place', 'wow love place', 'wow love place', 'wow love place', 'wow love place', 'wow love place', 'wow love place', 'wow love place', 'wow love place', 'wow love place', 'wow love place', 'wow love place', 'wow love place', 'wow love place', 'wow love place', 'wow love place', 'wow love place', 'wow love place', 'wow love place', 'wow love place', 'wow love place', 'wow love place', 'wow love place', 'wow love place', 'wow love place', 'wow love place', 'wow love place', 'wow love place', 'wow love place', 'wow love place', 'wow love place', 'wow love place', 'wow love place', 'wow love place', 'wow love place', 'wow love place', 'wow love place', 'wow love place', 'wow love place', 'wow love place', 'wow love place', 'wow love place', 'wow love place', 'wow love place', 'wow love place', 'wow love place', 'wow love place', 'wow love place', 'wow love place', 'wow love place', 'wow love place', 'wow love place', 'wow love place', 'wow love place', 'wow love place', 'wow love place', 'wow love place', 'wow love place', 'wow love place', 'wow love place', 'wow love place', 'wow love place', 'wow love place', 'wow love place', 'wow love place', 'wow love place', 'wow love place', 'wow love place', 'wow love place', 'wow love place', 'wow love place', 'wow love place', 'wow love place', 'wow love place', 'wow love place', 'wow love place', 'wow love place', 'wow love place', 'wow love place', 'wow love place', 'wow love place', 'wow love place', 'wow love place', 'wow love place', 'wow love place', 'wow love place', 'wow love place', 'wow love place', 'wow love place', 'wow love place', 'wow love place', 'wow love place', 'wow love place', 'wow love place', 'wow love place', 'wow love place', 'wow love place', 'wow love place', 'wow love place', 'wow love place', 'wow love place', 'wow love place', 'wow love place', 'wow love place', 'wow love place', 'wow love place', 'wow love place', 'wow love place', 'wow love place', 'wow love place', 'wow love place', 'wow love place', 'wow love place', 'wow love place', 'wow love place', 'wow love place', 'wow love place', 'wow love place', 'wow love place', 'wow love place', 'wow love place', 'wow love place', 'wow love place', 'wow love place', 'wow love place', 'wow love place', 'wow love place', 'wow love place', 'wow love place', 'wow love place', 'wow love place', 'wow love place', 'wow love place', 'wow love place', 'wow love place', 'wow love place', 'wow love place', 'wow love place', 'wow love place', 'wow love place', 'wow love place', 'wow love place', 'wow love place', 'wow love place', 'wow love place', 'wow love place', 'wow love place', 'wow love place', 'wow love place', 'wow love place', 'wow love place', 'wow love place', 'wow love place', 'wow love place', 'wow love place', 'wow love place', 'wow love place', 'wow love place', 'wow love place', 'wow love place', 'wow love place', 'wow love place', 'wow love place', 'wow love place', 'wow love place', 'wow love place', 'wow love place', 'wow love place', 'wow love place', 'wow love place', 'wow love place', 'wow love place', 'wow love place', 'wow love place', 'wow love place', 'wow love place', 'wow love place', 'wow love place', 'wow love place', 'wow love place', 'wow love place', 'wow love place', 'wow love place', 'wow love place', 'wow love place', 'wow love place', 'wow love place', 'wow love place', 'wow love place', 'wow love place', 'wow love place', 'wow love place', 'wow love place', 'wow love place', 'wow love place', 'wow love place', 'wow love place']\n"
          ]
        }
      ]
    },
    {
      "cell_type": "markdown",
      "source": [
        "Bag of word model\n"
      ],
      "metadata": {
        "id": "fFjWytH2buZg"
      }
    },
    {
      "cell_type": "code",
      "source": [
        "from sklearn.feature_extraction.text import CountVectorizer"
      ],
      "metadata": {
        "id": "S7WsB_AgbvqW"
      },
      "execution_count": 109,
      "outputs": []
    },
    {
      "cell_type": "code",
      "source": [
        "cv = CountVectorizer(max_features=1500)"
      ],
      "metadata": {
        "id": "h3DY5y9pxaiG"
      },
      "execution_count": 141,
      "outputs": []
    },
    {
      "cell_type": "code",
      "source": [
        "x = cv.fit_transform(corpus).toarray()"
      ],
      "metadata": {
        "id": "-I092SFvxatK"
      },
      "execution_count": 142,
      "outputs": []
    },
    {
      "cell_type": "code",
      "source": [
        "x.shape"
      ],
      "metadata": {
        "colab": {
          "base_uri": "https://localhost:8080/"
        },
        "id": "QLzrVk_uxavO",
        "outputId": "46de9094-27f2-4739-b5f6-5578afd5601e"
      },
      "execution_count": 143,
      "outputs": [
        {
          "output_type": "execute_result",
          "data": {
            "text/plain": [
              "(1000, 3)"
            ]
          },
          "metadata": {},
          "execution_count": 143
        }
      ]
    },
    {
      "cell_type": "code",
      "source": [
        "y = data.iloc[:,1].values"
      ],
      "metadata": {
        "id": "D4grRA1Xxa63"
      },
      "execution_count": 144,
      "outputs": []
    },
    {
      "cell_type": "code",
      "source": [
        "y.shape"
      ],
      "metadata": {
        "colab": {
          "base_uri": "https://localhost:8080/"
        },
        "id": "G9yx0S9Mxa9e",
        "outputId": "0dda4adc-04ee-43bb-f6a3-dbfd569451c9"
      },
      "execution_count": 145,
      "outputs": [
        {
          "output_type": "execute_result",
          "data": {
            "text/plain": [
              "(1000,)"
            ]
          },
          "metadata": {},
          "execution_count": 145
        }
      ]
    },
    {
      "cell_type": "code",
      "source": [
        "y[:10]"
      ],
      "metadata": {
        "colab": {
          "base_uri": "https://localhost:8080/"
        },
        "id": "8k8OzGI7xbBR",
        "outputId": "b2422489-9f4b-4645-96c9-f8528e0b2e4b"
      },
      "execution_count": 146,
      "outputs": [
        {
          "output_type": "execute_result",
          "data": {
            "text/plain": [
              "array([1, 0, 0, 1, 1, 0, 0, 0, 1, 1])"
            ]
          },
          "metadata": {},
          "execution_count": 146
        }
      ]
    },
    {
      "cell_type": "markdown",
      "source": [
        "Apply Naive Bayes Algortihm"
      ],
      "metadata": {
        "id": "rQLc6BgubwYf"
      }
    },
    {
      "cell_type": "code",
      "source": [
        "from sklearn.model_selection import train_test_split\n",
        "X_train,X_test,Y_train,Y_test = train_test_split(x,y,test_size =0.2,random_state=0)"
      ],
      "metadata": {
        "id": "ug4ZlS2vb4SG"
      },
      "execution_count": 147,
      "outputs": []
    },
    {
      "cell_type": "code",
      "source": [
        "X_train.shape,X_test.shape"
      ],
      "metadata": {
        "colab": {
          "base_uri": "https://localhost:8080/"
        },
        "id": "tMIBjtAx18W3",
        "outputId": "6d2d47a4-19f2-4978-a2f6-78d61820baa8"
      },
      "execution_count": 148,
      "outputs": [
        {
          "output_type": "execute_result",
          "data": {
            "text/plain": [
              "((800, 3), (200, 3))"
            ]
          },
          "metadata": {},
          "execution_count": 148
        }
      ]
    },
    {
      "cell_type": "code",
      "source": [
        "Y_train.shape,Y_test.shape"
      ],
      "metadata": {
        "colab": {
          "base_uri": "https://localhost:8080/"
        },
        "id": "JANsPwYr2CTg",
        "outputId": "e35430a5-4e84-41d7-aaf6-1270178b07d0"
      },
      "execution_count": 149,
      "outputs": [
        {
          "output_type": "execute_result",
          "data": {
            "text/plain": [
              "((800,), (200,))"
            ]
          },
          "metadata": {},
          "execution_count": 149
        }
      ]
    },
    {
      "cell_type": "code",
      "source": [
        "from sklearn.naive_bayes import GaussianNB"
      ],
      "metadata": {
        "id": "e2l0ca-p2JC-"
      },
      "execution_count": 150,
      "outputs": []
    },
    {
      "cell_type": "code",
      "source": [
        "classifier = GaussianNB()"
      ],
      "metadata": {
        "id": "EfvegtJ72PUK"
      },
      "execution_count": 151,
      "outputs": []
    },
    {
      "cell_type": "code",
      "source": [
        "classifier.fit(X_train,Y_train)"
      ],
      "metadata": {
        "colab": {
          "base_uri": "https://localhost:8080/"
        },
        "id": "eQx1JfVu2Ssc",
        "outputId": "21307a3f-0791-480a-c228-5ae45575ed3c"
      },
      "execution_count": 152,
      "outputs": [
        {
          "output_type": "execute_result",
          "data": {
            "text/plain": [
              "GaussianNB()"
            ]
          },
          "metadata": {},
          "execution_count": 152
        }
      ]
    },
    {
      "cell_type": "code",
      "source": [
        "Y_pred = classifier.predict(X_test)"
      ],
      "metadata": {
        "colab": {
          "base_uri": "https://localhost:8080/"
        },
        "id": "ECndl5W52YaQ",
        "outputId": "fb9e455e-8a64-40fa-b192-a8a5e0c2331f"
      },
      "execution_count": 156,
      "outputs": [
        {
          "output_type": "stream",
          "name": "stderr",
          "text": [
            "/usr/local/lib/python3.7/dist-packages/sklearn/naive_bayes.py:489: RuntimeWarning: divide by zero encountered in log\n",
            "  n_ij = -0.5 * np.sum(np.log(2.0 * np.pi * self.var_[i, :]))\n",
            "/usr/local/lib/python3.7/dist-packages/sklearn/naive_bayes.py:490: RuntimeWarning: invalid value encountered in true_divide\n",
            "  n_ij -= 0.5 * np.sum(((X - self.theta_[i, :]) ** 2) / (self.var_[i, :]), 1)\n"
          ]
        }
      ]
    },
    {
      "cell_type": "code",
      "source": [
        "from sklearn.metrics import accuracy_score\n",
        "accuracy_score(Y_test,Y_pred)"
      ],
      "metadata": {
        "colab": {
          "base_uri": "https://localhost:8080/"
        },
        "id": "4sXmKOtB2gZM",
        "outputId": "7ebdc21e-e5e2-4df7-f84c-66d7c9940c85"
      },
      "execution_count": 157,
      "outputs": [
        {
          "output_type": "execute_result",
          "data": {
            "text/plain": [
              "0.485"
            ]
          },
          "metadata": {},
          "execution_count": 157
        }
      ]
    },
    {
      "cell_type": "code",
      "source": [
        ""
      ],
      "metadata": {
        "id": "Q2moi1h14Nse"
      },
      "execution_count": null,
      "outputs": []
    }
  ]
}